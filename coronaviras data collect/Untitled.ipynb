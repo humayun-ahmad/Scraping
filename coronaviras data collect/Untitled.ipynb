{
 "cells": [
  {
   "cell_type": "code",
   "execution_count": 1,
   "metadata": {},
   "outputs": [],
   "source": [
    "import requests\n",
    "from bs4 import BeautifulSoup\n",
    "header =  {'User-Agent': 'Mozilla/5.0 (Windows NT x.y; Win64; x64; rv:10.0) Gecko/20100101 Firefox/10.0 '}\n",
    "url = requests.get(\"https://www.worldometers.info/coronavirus/\", headers=header)\n",
    "soup = BeautifulSoup(url.content, \"html.parser\")\n",
    "new_soup = soup.find(\"table\", {\"id\":\"main_table_countries_today\"})"
   ]
  },
  {
   "cell_type": "code",
   "execution_count": 7,
   "metadata": {},
   "outputs": [],
   "source": [
    "table_tr = new_soup.find_all('tr')\n",
    "th = new_soup.findChildren()\n",
    "# file = open(\"output.csv\",\"w\")\n",
    "for tr in table_tr:\n",
    "#     file.write(tr.text)\n",
    "    print(tr.text)\n",
    "# print(table_head)"
   ]
  },
  {
   "cell_type": "code",
   "execution_count": null,
   "metadata": {},
   "outputs": [],
   "source": []
  }
 ],
 "metadata": {
  "kernelspec": {
   "display_name": "Python 3",
   "language": "python",
   "name": "python3"
  },
  "language_info": {
   "codemirror_mode": {
    "name": "ipython",
    "version": 3
   },
   "file_extension": ".py",
   "mimetype": "text/x-python",
   "name": "python",
   "nbconvert_exporter": "python",
   "pygments_lexer": "ipython3",
   "version": "3.7.6"
  }
 },
 "nbformat": 4,
 "nbformat_minor": 4
}
