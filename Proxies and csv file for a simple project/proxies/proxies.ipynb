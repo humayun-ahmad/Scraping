{
 "cells": [
  {
   "cell_type": "code",
   "execution_count": 34,
   "metadata": {},
   "outputs": [],
   "source": [
    "import requests\n",
    "from bs4 import BeautifulSoup\n",
    "from random import choice"
   ]
  },
  {
   "cell_type": "code",
   "execution_count": 35,
   "metadata": {},
   "outputs": [],
   "source": [
    "def get_proxy():\n",
    "    url = \"https://www.sslproxies.org/\"\n",
    "    r = requests.get(url)\n",
    "    soup = BeautifulSoup(r.text, 'lxml')\n",
    "    return {'https' : choice(list(map(lambda x : x[0] +\":\"+ x[1], list(zip(map(lambda x : x.text, soup.find_all(\"td\")[::8]),\n",
    "                                              map(lambda x : x.text,soup.find_all(\"td\")[1::8]))))))}"
   ]
  },
  {
   "cell_type": "code",
   "execution_count": 36,
   "metadata": {},
   "outputs": [
    {
     "data": {
      "text/plain": [
       "{'https': '52.30.92.45:8081'}"
      ]
     },
     "execution_count": 36,
     "metadata": {},
     "output_type": "execute_result"
    }
   ],
   "source": [
    "get_proxy()"
   ]
  },
  {
   "cell_type": "code",
   "execution_count": 37,
   "metadata": {},
   "outputs": [],
   "source": [
    "def proxy_request(request_type, url, **kwargs):\n",
    "    while 1:\n",
    "        try:\n",
    "            proxy = get_proxy()\n",
    "#             print(\"Using proxy:{}\".format(proxy))\n",
    "            r = requests.request(request_type, url, proxies=proxy, timeout=5,**kwargs)\n",
    "            break\n",
    "        except:\n",
    "            pass\n",
    "    return r"
   ]
  },
  {
   "cell_type": "code",
   "execution_count": 38,
   "metadata": {},
   "outputs": [],
   "source": [
    "# res = proxy_request('get','https://www.bestreviews.guide/categories')"
   ]
  },
  {
   "cell_type": "code",
   "execution_count": 39,
   "metadata": {},
   "outputs": [],
   "source": [
    "# soup = BeautifulSoup(res.text, 'lxml')\n",
    "# main_categories = soup.find_all(\"a\", class_=\"main_categories__list__item\")"
   ]
  },
  {
   "cell_type": "code",
   "execution_count": 40,
   "metadata": {},
   "outputs": [],
   "source": [
    "main_categories_list = []\n",
    "sub_categories_list = []\n",
    "sub_categories_name = []"
   ]
  },
  {
   "cell_type": "code",
   "execution_count": 41,
   "metadata": {},
   "outputs": [],
   "source": [
    "# for one_main_categories in main_categories:\n",
    "#     sub_categories_list.append(\"https://www.bestreviews.guide\" + one_main_categories['href'])\n",
    "    \n",
    "# #     print(one_main_categories['href'])"
   ]
  },
  {
   "cell_type": "code",
   "execution_count": 42,
   "metadata": {},
   "outputs": [],
   "source": [
    "file_read = open('categories.txt', 'r')"
   ]
  },
  {
   "cell_type": "code",
   "execution_count": null,
   "metadata": {},
   "outputs": [],
   "source": [
    "file_read = open('categories.txt', 'r')\n",
    "\n",
    "for one in file_read:\n",
    "    sub_res = proxy_request('get',one)\n",
    "    sub_soup = BeautifulSoup(sub_res.text, 'lxml')\n",
    "    main_categories__title = sub_soup.find('h1', class_=\"main_categories__title--xl\")\n",
    "    sub_title = sub_soup.find_all('div', class_=\"gray_box_layout--txt\")\n",
    "    st = main_categories__title\n",
    "    \n",
    "    print(st)\n",
    "    \n",
    "    for title in sub_title:\n",
    "        tt = title.text.strip().lstrip().rstrip() + \",\"\n",
    "#         f.write(st)\n",
    "        print(tt)\n",
    "    \n",
    "    break"
   ]
  },
  {
   "cell_type": "code",
   "execution_count": 18,
   "metadata": {},
   "outputs": [
    {
     "ename": "AttributeError",
     "evalue": "'NoneType' object has no attribute 'text'",
     "output_type": "error",
     "traceback": [
      "\u001b[1;31m---------------------------------------------------------------------------\u001b[0m",
      "\u001b[1;31mAttributeError\u001b[0m                            Traceback (most recent call last)",
      "\u001b[1;32m<ipython-input-18-575d0de2238f>\u001b[0m in \u001b[0;36m<module>\u001b[1;34m\u001b[0m\n\u001b[0;32m      3\u001b[0m     \u001b[0msub_soup\u001b[0m \u001b[1;33m=\u001b[0m \u001b[0mBeautifulSoup\u001b[0m\u001b[1;33m(\u001b[0m\u001b[0msub_res\u001b[0m\u001b[1;33m.\u001b[0m\u001b[0mtext\u001b[0m\u001b[1;33m,\u001b[0m \u001b[1;34m'lxml'\u001b[0m\u001b[1;33m)\u001b[0m\u001b[1;33m\u001b[0m\u001b[1;33m\u001b[0m\u001b[0m\n\u001b[0;32m      4\u001b[0m     \u001b[0mmain_categories__title\u001b[0m \u001b[1;33m=\u001b[0m \u001b[0msub_soup\u001b[0m\u001b[1;33m.\u001b[0m\u001b[0mfind\u001b[0m\u001b[1;33m(\u001b[0m\u001b[1;34m'h1'\u001b[0m\u001b[1;33m,\u001b[0m \u001b[0mclass_\u001b[0m\u001b[1;33m=\u001b[0m\u001b[1;34m\"main_categories__title--xl\"\u001b[0m\u001b[1;33m)\u001b[0m\u001b[1;33m\u001b[0m\u001b[1;33m\u001b[0m\u001b[0m\n\u001b[1;32m----> 5\u001b[1;33m     \u001b[0mst\u001b[0m \u001b[1;33m=\u001b[0m \u001b[0mmain_categories__title\u001b[0m\u001b[1;33m.\u001b[0m\u001b[0mtext\u001b[0m\u001b[1;33m\u001b[0m\u001b[1;33m\u001b[0m\u001b[0m\n\u001b[0m\u001b[0;32m      6\u001b[0m     \u001b[0msub_categories_name\u001b[0m\u001b[1;33m.\u001b[0m\u001b[0mappend\u001b[0m\u001b[1;33m(\u001b[0m\u001b[0mst\u001b[0m\u001b[1;33m)\u001b[0m\u001b[1;33m\u001b[0m\u001b[1;33m\u001b[0m\u001b[0m\n\u001b[0;32m      7\u001b[0m \u001b[1;33m\u001b[0m\u001b[0m\n",
      "\u001b[1;31mAttributeError\u001b[0m: 'NoneType' object has no attribute 'text'"
     ]
    }
   ],
   "source": [
    "for one_sub_categories in sub_categories_list:\n",
    "    sub_res = proxy_request('get',one_sub_categories)\n",
    "    sub_soup = BeautifulSoup(sub_res.text, 'lxml')\n",
    "    main_categories__title = sub_soup.find('h1', class_=\"main_categories__title--xl\")\n",
    "    st = main_categories__title.text + \"=====\"\n",
    "    print(st)\n",
    "#     sub_categories_name.append(st)\n",
    "    \n",
    "    for title in sub_title:\n",
    "        tt = title.text.strip().lstrip().rstrip() + \",\"\n",
    "#         f.write(st)\n",
    "        print(tt)\n",
    "    \n",
    "#     print(sub)\n",
    "#     sub_categories_name.append()\n",
    "#     sub_categories_title = sub_soup.find_all('a',class_=\"gray_box_layout\")\n",
    "    sub_title = sub_soup.find_all('div', class_=\"gray_box_layout--txt\")\n",
    "#     f.write(\"@\")\n",
    "    for title in sub_title:\n",
    "        st = title.text.strip().lstrip().rstrip() + \",\"\n",
    "#         f.write(st)\n",
    "        print(st)\n",
    "#     break\n",
    "#     print(one_sub_categories)"
   ]
  },
  {
   "cell_type": "code",
   "execution_count": null,
   "metadata": {},
   "outputs": [],
   "source": []
  },
  {
   "cell_type": "code",
   "execution_count": null,
   "metadata": {},
   "outputs": [],
   "source": []
  }
 ],
 "metadata": {
  "kernelspec": {
   "display_name": "Python 3",
   "language": "python",
   "name": "python3"
  },
  "language_info": {
   "codemirror_mode": {
    "name": "ipython",
    "version": 3
   },
   "file_extension": ".py",
   "mimetype": "text/x-python",
   "name": "python",
   "nbconvert_exporter": "python",
   "pygments_lexer": "ipython3",
   "version": "3.7.3"
  }
 },
 "nbformat": 4,
 "nbformat_minor": 2
}
