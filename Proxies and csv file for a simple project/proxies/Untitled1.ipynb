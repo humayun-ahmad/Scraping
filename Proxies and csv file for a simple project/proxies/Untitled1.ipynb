{
 "cells": [
  {
   "cell_type": "code",
   "execution_count": 35,
   "metadata": {},
   "outputs": [],
   "source": [
    "import csv"
   ]
  },
  {
   "cell_type": "code",
   "execution_count": 36,
   "metadata": {},
   "outputs": [],
   "source": [
    "filename = 'sample.csv'"
   ]
  },
  {
   "cell_type": "code",
   "execution_count": 37,
   "metadata": {},
   "outputs": [],
   "source": [
    "fields =[]\n",
    "rows = []\n"
   ]
  },
  {
   "cell_type": "code",
   "execution_count": 55,
   "metadata": {},
   "outputs": [],
   "source": [
    "with open('sample.csv','r') as csvfile:\n",
    "    csvreader = csv.reader(csvfile)\n",
    "    \n",
    "#     extracting field names through first row\n",
    "#     print(csvreader)\n",
    "#     fields = csvreader.next()\n",
    "    row1 = next(csvreader)\n",
    "#     for row in csvreader:\n",
    "#         print(row)\n",
    "#     print(row1)\n",
    "\n",
    "myData = [\n",
    "    [1,2,3],['good morning','good evening', 'good afternoon']\n",
    "]\n",
    "\n",
    "with open('sample1.csv','w') as wf:\n",
    "    csvwriter = csv.writer(wf)\n",
    "    csvwriter.writerows(myData)\n",
    "        \n",
    "\n",
    "        \n",
    "#         for line in csvreader:\n",
    "#             csvwriter.writerow(line)\n",
    "        \n",
    "    "
   ]
  },
  {
   "cell_type": "code",
   "execution_count": null,
   "metadata": {},
   "outputs": [],
   "source": []
  }
 ],
 "metadata": {
  "kernelspec": {
   "display_name": "Python 3",
   "language": "python",
   "name": "python3"
  },
  "language_info": {
   "codemirror_mode": {
    "name": "ipython",
    "version": 3
   },
   "file_extension": ".py",
   "mimetype": "text/x-python",
   "name": "python",
   "nbconvert_exporter": "python",
   "pygments_lexer": "ipython3",
   "version": "3.7.3"
  }
 },
 "nbformat": 4,
 "nbformat_minor": 2
}
