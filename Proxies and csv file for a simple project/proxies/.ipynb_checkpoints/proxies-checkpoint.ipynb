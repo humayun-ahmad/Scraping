{
 "cells": [
  {
   "cell_type": "code",
   "execution_count": 14,
   "metadata": {},
   "outputs": [],
   "source": [
    "import requests\n",
    "from bs4 import BeautifulSoup\n",
    "from random import choice"
   ]
  },
  {
   "cell_type": "code",
   "execution_count": 15,
   "metadata": {},
   "outputs": [],
   "source": [
    "def get_proxy():\n",
    "    url = \"https://www.sslproxies.org/\"\n",
    "    r = requests.get(url)\n",
    "    soup = BeautifulSoup(r.text, 'lxml')\n",
    "    return {'https' : choice(list(map(lambda x : x[0] +\":\"+ x[1], list(zip(map(lambda x : x.text, soup.find_all(\"td\")[::8]),\n",
    "                                              map(lambda x : x.text,soup.find_all(\"td\")[1::8]))))))}"
   ]
  },
  {
   "cell_type": "code",
   "execution_count": 16,
   "metadata": {},
   "outputs": [
    {
     "data": {
      "text/plain": [
       "{'https': '125.164.154.200:8080'}"
      ]
     },
     "execution_count": 16,
     "metadata": {},
     "output_type": "execute_result"
    }
   ],
   "source": [
    "get_proxy()"
   ]
  },
  {
   "cell_type": "code",
   "execution_count": 17,
   "metadata": {},
   "outputs": [],
   "source": [
    "def proxy_request(request_type, url, **kwargs):\n",
    "    while 1:\n",
    "        try:\n",
    "            proxy = get_proxy()\n",
    "#             print(\"Using proxy:{}\".format(proxy))\n",
    "            r = requests.request(request_type, url, proxies=proxy, timeout=5,**kwargs)\n",
    "            break\n",
    "        except:\n",
    "            pass\n",
    "    return r"
   ]
  },
  {
   "cell_type": "code",
   "execution_count": 18,
   "metadata": {},
   "outputs": [],
   "source": [
    "res = proxy_request('get','https://www.bestreviews.guide/categories')"
   ]
  },
  {
   "cell_type": "code",
   "execution_count": 19,
   "metadata": {},
   "outputs": [],
   "source": [
    "soup = BeautifulSoup(res.text, 'lxml')\n",
    "main_categories = soup.find_all(\"a\", class_=\"main_categories__list__item\")"
   ]
  },
  {
   "cell_type": "code",
   "execution_count": 20,
   "metadata": {},
   "outputs": [],
   "source": [
    "main_categories_list = []\n",
    "sub_categories_list = []\n",
    "sub_categories_name = []"
   ]
  },
  {
   "cell_type": "code",
   "execution_count": 21,
   "metadata": {},
   "outputs": [],
   "source": [
    "for one_main_categories in main_categories:\n",
    "    sub_categories_list.append(\"https://www.bestreviews.guide\" + one_main_categories['href'])\n",
    "    \n",
    "#     print(one_main_categories['href'])"
   ]
  },
  {
   "cell_type": "code",
   "execution_count": null,
   "metadata": {},
   "outputs": [],
   "source": []
  },
  {
   "cell_type": "code",
   "execution_count": 22,
   "metadata": {},
   "outputs": [],
   "source": [
    "# f = open('text.txt',\"a\")"
   ]
  },
  {
   "cell_type": "code",
   "execution_count": null,
   "metadata": {},
   "outputs": [],
   "source": [
    "for one_sub_categories in sub_categories_list:\n",
    "    sub_res = proxy_request('get',one_sub_categories)\n",
    "    sub_soup = BeautifulSoup(sub_res.text, 'lxml')\n",
    "    main_categories__title = sub_soup.find('h1', class_=\"main_categories__title--xl\")\n",
    "    \n",
    "    print(main_categories__title.text)\n",
    "    break\n",
    "#     print(sub)\n",
    "#     sub_categories_name.append()\n",
    "#     sub_categories_title = sub_soup.find_all('a',class_=\"gray_box_layout\")\n",
    "#     sub_title = sub_soup.find_all('div', class_=\"gray_box_layout--txt\")\n",
    "# #     f.write(\"@\")\n",
    "#     for title in sub_title:\n",
    "#         st = title.text.strip().lstrip().rstrip() + \",\"\n",
    "# #         f.write(st)\n",
    "# #         print(st)\n",
    "# #     break\n",
    "# #     print(one_sub_categories)"
   ]
  },
  {
   "cell_type": "code",
   "execution_count": null,
   "metadata": {},
   "outputs": [],
   "source": []
  }
 ],
 "metadata": {
  "kernelspec": {
   "display_name": "Python 3",
   "language": "python",
   "name": "python3"
  },
  "language_info": {
   "codemirror_mode": {
    "name": "ipython",
    "version": 3
   },
   "file_extension": ".py",
   "mimetype": "text/x-python",
   "name": "python",
   "nbconvert_exporter": "python",
   "pygments_lexer": "ipython3",
   "version": "3.7.3"
  }
 },
 "nbformat": 4,
 "nbformat_minor": 2
}
